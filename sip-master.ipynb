{
 "cells": [
  {
   "cell_type": "code",
   "execution_count": 1,
   "metadata": {},
   "outputs": [],
   "source": [
    "# -*- coding: utf-8 -*-\n",
    "\"\"\"Master controller main program.\n",
    "\n",
    "1. Creates a Resource Manager object.\n",
    "   :class:`sip_common.resource_manager.ResourceManager`..\n",
    "2. Starts the logger (log aggregator) as a subprocess.\n",
    "3. Loads the slave configuration JSON file (``slave_map.json``).\n",
    "4. Creates the Master Controller state machine:\n",
    "   :class:`sip_master.master_states.MasterControllerSM`.\n",
    "5. Creates the Master Controller RPC interface.\n",
    "   :class:`sip_master.rpc_service.RpcService`.\n",
    "6. Enters a event loop waiting for command line inputs.\n",
    "\n",
    "The master controller implements a simple state machine (see\n",
    "`state machine uml`_).\n",
    "\n",
    ".. _state machine uml: https://goo.gl/Xyri5Q\n",
    "\"\"\"\n",
    "\n",
    "import sys\n",
    "import json\n",
    "import threading\n",
    "import subprocess\n",
    "import os\n",
    "import time\n",
    "import logging.handlers\n",
    "from rpyc.utils.server import ThreadedServer"
   ]
  },
  {
   "cell_type": "code",
   "execution_count": 2,
   "metadata": {},
   "outputs": [],
   "source": [
    "# Export environment variable SIP_HOSTNAME\n",
    "# This is needed before the other SIP imports.\n",
    "os.environ['SIP_HOSTNAME'] = os.uname()[1]"
   ]
  },
  {
   "cell_type": "code",
   "execution_count": 3,
   "metadata": {},
   "outputs": [],
   "source": [
    "from sip.common.resource_manager import ResourceManager\n",
    "from sip.common.docker_paas import DockerPaas as Paas\n",
    "from sip.master import config"
   ]
  },
  {
   "cell_type": "code",
   "execution_count": 4,
   "metadata": {},
   "outputs": [],
   "source": [
    "__author__ = 'David Terrett + Brian McIlwrath'"
   ]
  },
  {
   "cell_type": "code",
   "execution_count": 5,
   "metadata": {},
   "outputs": [],
   "source": [
    "sip_root = os.path.join(os.getcwd(),'sip/')\n",
    "config_file = os.path.join(sip_root, 'etc', 'slave_map.json')\n",
    "resources_file = os.path.join(sip_root, 'etc', 'resources.json')"
   ]
  },
  {
   "cell_type": "code",
   "execution_count": 6,
   "metadata": {},
   "outputs": [
    {
     "name": "stdout",
     "output_type": "stream",
     "text": [
      "Resource table:\n",
      "[000] localhost\n",
      "  - sip_root /mnt/scratch/software/SKA/integration-prototype/sip/\n",
      "  - launch_protocol ['docker', 'spark']\n"
     ]
    }
   ],
   "source": [
    "# Create the resource manager\n",
    "with open(resources_file) as f:\n",
    "    _resources = json.load(f)\n",
    "    # If using localhost, and sip root is set to #cwd replace it.\n",
    "    # if 'localhost' in _resources and \\\n",
    "    #                 _resources['localhost']['sip_root'] == '#cwd':\n",
    "    #     _resources['localhost']['sip_root'] = os.getcwd()\n",
    "    # FIXME(FD) Check this is an acceptable change.\n",
    "    if 'localhost' in _resources:\n",
    "        _resources['localhost']['sip_root'] = sip_root\n",
    "    print('Resource table:')\n",
    "    for i, resource in enumerate(_resources):\n",
    "        print('[{:03d}] {}'.format(i, resource))\n",
    "        for key, value in _resources[resource].items():\n",
    "            print('  - {} {}'.format(key, value))\n",
    "    config.resource = ResourceManager(_resources)\n",
    "\n",
    "# Start logging server\n",
    "    paas = Paas()\n",
    "    config.logserver = paas.run_service('logging_server', 'sip',\n",
    "        [logging.handlers.DEFAULT_TCP_LOGGING_PORT],\n",
    "        ['python3', 'sip/common/logging_server.py'])\n",
    "\n",
    "    from sip.common.logging_api import log\n",
    "    from sip.master.master_states import MasterControllerSM\n",
    "    from sip.master.master_states import Standby\n",
    "    from sip.master.slave_poller import SlavePoller\n",
    "    from sip.master.rpc_service import RpcService\n",
    "    from sip.master.reconnect import reconnect\n",
    "\n",
    "# Wait until it initializes\n",
    "time.sleep(1.0)"
   ]
  },
  {
   "cell_type": "code",
   "execution_count": 7,
   "metadata": {},
   "outputs": [
    {
     "data": {
      "text/plain": [
       "0"
      ]
     },
     "execution_count": 7,
     "metadata": {},
     "output_type": "execute_result"
    }
   ],
   "source": [
    "# Find logserver container name and attach to it in a separate terminal window\n",
    "import docker\n",
    "client = docker.from_env()\n",
    "logcontainer = client.containers.list(filters={\"name\":config.logserver.name})\n",
    "cmd = \"'docker attach \" + logcontainer[0].name + \"'\"\n",
    "os.system(\"gnome-terminal -e \" + cmd)"
   ]
  },
  {
   "cell_type": "code",
   "execution_count": 8,
   "metadata": {},
   "outputs": [],
   "source": [
    "# Create the slave config array from the configuration (a JSON string)\n",
    "with open(config_file) as f:\n",
    "    config._slave_config_dict = json.load(f)"
   ]
  },
  {
   "cell_type": "code",
   "execution_count": 9,
   "metadata": {},
   "outputs": [],
   "source": [
    "# Create the master controller state machine\n",
    "config.master_controller_state_machine = MasterControllerSM()"
   ]
  },
  {
   "cell_type": "code",
   "execution_count": 10,
   "metadata": {},
   "outputs": [],
   "source": [
    "# Create and start the slave poller\n",
    "SlavePoller(config.master_controller_state_machine).start()"
   ]
  },
  {
   "cell_type": "code",
   "execution_count": 11,
   "metadata": {},
   "outputs": [],
   "source": [
    "# This starts the rpyc 'ThreadedServer' - this creates a new\n",
    "# thread for each connection on the given port\n",
    "server = ThreadedServer(RpcService, port=12345)\n",
    "t = threading.Thread(target=server.start)\n",
    "t.setDaemon(True)\n",
    "t.start()"
   ]
  },
  {
   "cell_type": "code",
   "execution_count": 12,
   "metadata": {},
   "outputs": [],
   "source": [
    "# Attempt to connect to exiting services\n",
    "reconnect(paas)"
   ]
  },
  {
   "cell_type": "code",
   "execution_count": null,
   "metadata": {},
   "outputs": [
    {
     "name": "stdout",
     "output_type": "stream",
     "text": [
      "** Enter command:\n",
      "online\n"
     ]
    }
   ],
   "source": [
    "# For testing we can also post events typed on the terminal\n",
    "sm = config.master_controller_state_machine\n",
    "while True:\n",
    "    if os.path.exists(\"docker_swarm\"):\n",
    "        time.sleep(1)\n",
    "    else:\n",
    "        # Read from the terminal and process the event\n",
    "        event = input('** Enter command:\\n').split()\n",
    "        if event:\n",
    "            if event[0] == 'state':\n",
    "                log.info('CLI: Current state: {}'.\n",
    "                         format(sm.current_state()))\n",
    "                continue\n",
    "            log.info('CLI: !!! Posting event ==> {}'.format(event[0]))\n",
    "            result = sm.post_event(event)\n",
    "            if result == 'rejected':\n",
    "                log.warn('CLI: not allowed in current state')\n",
    "            elif result == 'ignored':\n",
    "                log.warn('CLI: command ignored: {}'.format(event[0]))\n",
    "            else:\n",
    "                # Print what state we are now in.\n",
    "                log.info('CLI: master controller state: {}'.format(\n",
    "                    sm.current_state()))\n",
    "        else:\n",
    "            print('** Allowed commands: online, offline, shutdown, '\n",
    "                   'cap [name] [task]')"
   ]
  },
  {
   "cell_type": "code",
   "execution_count": null,
   "metadata": {},
   "outputs": [],
   "source": []
  }
 ],
 "metadata": {
  "kernelspec": {
   "display_name": "Python 3",
   "language": "python",
   "name": "python3"
  },
  "language_info": {
   "codemirror_mode": {
    "name": "ipython",
    "version": 3
   },
   "file_extension": ".py",
   "mimetype": "text/x-python",
   "name": "python",
   "nbconvert_exporter": "python",
   "pygments_lexer": "ipython3",
   "version": "3.5.4"
  }
 },
 "nbformat": 4,
 "nbformat_minor": 2
}
